{
 "cells": [
  {
   "cell_type": "markdown",
   "metadata": {},
   "source": [
    "# oppgave 6\n",
    "Vi ønsker å lage et query i SQL som finner hvilke forestillinger som har solgt\n",
    "best. Skriv ut navn på forestilling og dato og antall solgte plasser sortert på\n",
    "antall plasser i synkende rekkefølge."
   ]
  },
  {
   "cell_type": "code",
   "execution_count": 1,
   "metadata": {},
   "outputs": [],
   "source": [
    "import sqlite3\n",
    "import pandas as pd\n",
    "from tabulate import tabulate\n",
    "from utils import get_file_name_of_newest_database\n",
    "\n",
    "name = get_file_name_of_newest_database()\n",
    "conn = sqlite3.connect(name)\n",
    "cursor = conn.cursor()"
   ]
  },
  {
   "cell_type": "code",
   "execution_count": 2,
   "metadata": {},
   "outputs": [
    {
     "name": "stdout",
     "output_type": "stream",
     "text": [
      "+-------------------------------+------------+-------------------------+\n",
      "| Teaterstykke                  | Dato       |   Antall solgte plasser |\n",
      "+===============================+============+=========================+\n",
      "| Kongsemnene                   | 2024-02-03 |                      65 |\n",
      "+-------------------------------+------------+-------------------------+\n",
      "| Størst av alt er kjærligheten | 2024-02-03 |                      36 |\n",
      "+-------------------------------+------------+-------------------------+\n"
     ]
    }
   ],
   "source": [
    "\n",
    "# hent alle billetter join med billetttype og groupe by ForestillingNummer og tell antall\n",
    "# det er viktig at vi først grupere etter teaterstykke og forestillingnummer og så teller antall \n",
    "# sql gruperer etter den etter tur. Vi vil ikke grupere forestillinger med samme nummer til forskjellige teaterstykker\n",
    "query = \"\"\"\n",
    "SELECT Forestilling.TeaterStykkeNavn, Forestilling.dato , COUNT(Billett.ForestillingNummer) as 'Antall solgte plasser'\n",
    "FROM Billett\n",
    "JOIN BilletType ON Billett.Billettype = BilletType.type AND Billett.TeaterStykkeNavn = BilletType.TeaterStykkeNavn\n",
    "JOIN Forestilling ON (Billett.ForestillingNummer = Forestilling.Nummer AND Billett.TeaterStykkeNavn = Forestilling.TeaterStykkeNavn)\n",
    "Group by Billett.TeaterStykkeNavn, Billett.ForestillingNummer\n",
    "\"\"\"\n",
    "\n",
    "cursor.execute(query)\n",
    "forestillinger = cursor.fetchall()\n",
    "print(tabulate(forestillinger, headers= [\"Teaterstykke\", \"Dato\", \"Antall solgte plasser\"], tablefmt=\"grid\"))\n"
   ]
  }
 ],
 "metadata": {
  "kernelspec": {
   "display_name": "Python 3",
   "language": "python",
   "name": "python3"
  },
  "language_info": {
   "codemirror_mode": {
    "name": "ipython",
    "version": 3
   },
   "file_extension": ".py",
   "mimetype": "text/x-python",
   "name": "python",
   "nbconvert_exporter": "python",
   "pygments_lexer": "ipython3",
   "version": "3.11.5"
  }
 },
 "nbformat": 4,
 "nbformat_minor": 2
}
