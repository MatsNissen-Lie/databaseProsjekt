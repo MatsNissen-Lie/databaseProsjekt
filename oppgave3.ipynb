{
 "cells": [
  {
   "cell_type": "markdown",
   "metadata": {},
   "source": [
    "# Oppgave 3\n",
    "Her skal du kjøpe 9 voksenbilletter til forestillingen for Størst av alt er\n",
    "kjærligheten 3. februar, hvor det er 9 ledige billetter og hvor stolene er på\n",
    "samme rad. Stolene trenger ikke være ved siden av hverandre. Vi ønsker å få\n",
    "summert hva det koster å kjøpe disse billettene,"
   ]
  },
  {
   "cell_type": "code",
   "execution_count": 3,
   "metadata": {},
   "outputs": [],
   "source": [
    "import sqlite3\n",
    "import pandas as pd\n",
    "from tabulate import tabulate\n",
    "import os\n",
    "\n",
    "def get_file_name_of_newest_database():\n",
    "    base_name = \"database\"\n",
    "    counter = 1\n",
    "\n",
    "    # Increment counter until a new file name is found\n",
    "    while os.path.exists(f\"{base_name}{counter}.db\"):\n",
    "        counter += 1\n",
    "    counter -= 1\n",
    "    return f\"{base_name}{counter}.db\"\n",
    "\n",
    "name = get_file_name_of_newest_database()\n",
    "conn = sqlite3.connect(name)\n",
    "cursor = conn.cursor()"
   ]
  },
  {
   "cell_type": "code",
   "execution_count": 7,
   "metadata": {},
   "outputs": [
    {
     "ename": "IntegrityError",
     "evalue": "UNIQUE constraint failed: Billettkjøp.Nummer, Billettkjøp.ForestillingNummer, Billettkjøp.TeaterStykkeNavn",
     "output_type": "error",
     "traceback": [
      "\u001b[0;31m---------------------------------------------------------------------------\u001b[0m",
      "\u001b[0;31mIntegrityError\u001b[0m                            Traceback (most recent call last)",
      "Cell \u001b[0;32mIn[7], line 12\u001b[0m\n\u001b[1;32m      9\u001b[0m ForestillingNummer \u001b[39m=\u001b[39m cursor\u001b[39m.\u001b[39mfetchone()[\u001b[39m0\u001b[39m]\n\u001b[1;32m     11\u001b[0m \u001b[39m# billettkjøp\u001b[39;00m\n\u001b[0;32m---> 12\u001b[0m cursor\u001b[39m.\u001b[39;49mexecute(\n\u001b[1;32m     13\u001b[0m     \u001b[39m\"\u001b[39;49m\u001b[39mINSERT INTO Billettkjøp (TeaterStykkeNavn,ForestillingNummer, Nummer, Mobilnummer, dato, tid) VALUES (?, ?,?,?, ?, ?)\u001b[39;49m\u001b[39m\"\u001b[39;49m,\n\u001b[1;32m     14\u001b[0m     (\n\u001b[1;32m     15\u001b[0m         \u001b[39m\"\u001b[39;49m\u001b[39mStørst av alt er kjærligheten\u001b[39;49m\u001b[39m\"\u001b[39;49m,\n\u001b[1;32m     16\u001b[0m         ForestillingNummer,\n\u001b[1;32m     17\u001b[0m         \u001b[39m2\u001b[39;49m,\n\u001b[1;32m     18\u001b[0m         \u001b[39m\"\u001b[39;49m\u001b[39m1234567890\u001b[39;49m\u001b[39m\"\u001b[39;49m,\n\u001b[1;32m     19\u001b[0m         date,\n\u001b[1;32m     20\u001b[0m         \u001b[39m\"\u001b[39;49m\u001b[39m18:30\u001b[39;49m\u001b[39m\"\u001b[39;49m,\n\u001b[1;32m     21\u001b[0m     ),\n\u001b[1;32m     22\u001b[0m )\n\u001b[1;32m     23\u001b[0m conn\u001b[39m.\u001b[39mcommit()\n\u001b[1;32m     25\u001b[0m \u001b[39m# billett\u001b[39;00m\n",
      "\u001b[0;31mIntegrityError\u001b[0m: UNIQUE constraint failed: Billettkjøp.Nummer, Billettkjøp.ForestillingNummer, Billettkjøp.TeaterStykkeNavn"
     ]
    }
   ],
   "source": [
    "cursor.execute(\"SELECT * FROM Kundeprofil\")\n",
    "customer = cursor.fetchone()\n",
    "customer\n",
    "\n",
    "date = \"2024-02-03\"\n",
    "\n",
    "query = \"SELECT Nummer FROM Forestilling WHERE teaterstykkeNavn = 'Størst av alt er kjærligheten' AND dato = ?\"\n",
    "cursor.execute(query, (date,))\n",
    "ForestillingNummer = cursor.fetchone()[0]\n",
    "\n",
    "# billettkjøp\n",
    "cursor.execute(\n",
    "    \"INSERT INTO Billettkjøp (TeaterStykkeNavn,ForestillingNummer, Nummer, Mobilnummer, dato, tid) VALUES (?, ?,?,?, ?, ?)\",\n",
    "    (\n",
    "        \"Størst av alt er kjærligheten\",\n",
    "        ForestillingNummer,\n",
    "        2,\n",
    "        \"1234567890\",\n",
    "        date,\n",
    "        \"18:30\",\n",
    "    ),\n",
    ")\n",
    "conn.commit()\n",
    "\n",
    "# billett\n",
    "plasser = [1, 2, 3, 4, 5, 6, 7, 8, 9]\n",
    "\n",
    "# kjøp 9 plasser rad 1  parkett\n",
    "for plass in plasser:\n",
    "    cursor.execute(\n",
    "        \"INSERT INTO Billett (RadNr, StolNr, Område, salNavn, ForestillingNummer, BillettKjøpNummer, Billettype, TeaterStykkeNavn ) VALUES (?, ?, ?, ?, ?, ?, ?, ?)\",\n",
    "        (\n",
    "            2,\n",
    "            plass,\n",
    "            \"Galleri\",\n",
    "            \"Gamle scene\",\n",
    "            ForestillingNummer,\n",
    "            2,\n",
    "            \"Ordinær\",\n",
    "            \"Størst av alt er kjærligheten\",\n",
    "        ),\n",
    "    )\n",
    "conn.commit()"
   ]
  },
  {
   "cell_type": "code",
   "execution_count": 5,
   "metadata": {},
   "outputs": [
    {
     "name": "stdout",
     "output_type": "stream",
     "text": [
      "Billettene koster None kr\n"
     ]
    }
   ],
   "source": [
    "# get ticket for forestilling 6 and billettkjøp 2 and join them with ticket type and sum the price\n",
    "\n",
    "query = \"\"\"\n",
    "SELECT SUM(BilletType.pris)\n",
    "FROM Billett\n",
    "JOIN BilletType\n",
    "ON Billett.Billettype = BilletType.type\n",
    "AND Billett.TeaterStykkeNavn = BilletType.TeaterStykkeNavn\n",
    "WHERE Billett.ForestillingNummer = 6\n",
    "AND Billett.BillettKjøpNummer = 2\n",
    "\"\"\"\n",
    "cursor.execute(query)\n",
    "tickets = cursor.fetchall()\n",
    "print(f'Billettene koster {tickets[0][0]} kr')"
   ]
  },
  {
   "cell_type": "code",
   "execution_count": null,
   "metadata": {},
   "outputs": [],
   "source": []
  }
 ],
 "metadata": {
  "kernelspec": {
   "display_name": "Python 3.9.6 64-bit",
   "language": "python",
   "name": "python3"
  },
  "language_info": {
   "codemirror_mode": {
    "name": "ipython",
    "version": 3
   },
   "file_extension": ".py",
   "mimetype": "text/x-python",
   "name": "python",
   "nbconvert_exporter": "python",
   "pygments_lexer": "ipython3",
   "version": "3.9.6"
  },
  "orig_nbformat": 4,
  "vscode": {
   "interpreter": {
    "hash": "31f2aee4e71d21fbe5cf8b01ff0e069b9275f58929596ceb00d14d90e3e16cd6"
   }
  }
 },
 "nbformat": 4,
 "nbformat_minor": 2
}
