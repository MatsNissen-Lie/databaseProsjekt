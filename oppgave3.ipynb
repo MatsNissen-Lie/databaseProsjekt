{
 "cells": [
  {
   "cell_type": "code",
   "execution_count": 16,
   "metadata": {},
   "outputs": [
    {
     "name": "stdout",
     "output_type": "stream",
     "text": [
      "The autoreload extension is already loaded. To reload it, use:\n",
      "  %reload_ext autoreload\n"
     ]
    }
   ],
   "source": [
    "%load_ext autoreload\n",
    "import sqlite3\n",
    "import pandas as pd\n",
    "from tabulate import tabulate\n",
    "from utils import get_file_name_of_newest_database\n",
    "\n",
    "name = get_file_name_of_newest_database()\n",
    "conn = sqlite3.connect(name)\n",
    "cursor = conn.cursor()"
   ]
  },
  {
   "cell_type": "markdown",
   "metadata": {},
   "source": [
    "# Oppgave 3\n",
    "Her skal du kjøpe 9 voksenbilletter til forestillingen for Størst av alt er\n",
    "kjærligheten 3. februar, hvor det er 9 ledige billetter og hvor stolene er på\n",
    "samme rad. Stolene trenger ikke være ved siden av hverandre. Vi ønsker å få\n",
    "summert hva det koster å kjøpe disse billettene,"
   ]
  },
  {
   "cell_type": "code",
   "execution_count": 17,
   "metadata": {},
   "outputs": [
    {
     "name": "stdout",
     "output_type": "stream",
     "text": [
      "You have chosen the play \"Størst av alt er kjærligheten\" at the theater \"Gamle scene\" on the date \"2024-02-03\" at \"18:30\"\n",
      "[(1, 1, 'Balkong', 'Gamle scene'), (1, 2, 'Balkong', 'Gamle scene'), (1, 3, 'Balkong', 'Gamle scene'), (1, 4, 'Balkong', 'Gamle scene'), (1, 5, 'Balkong', 'Gamle scene'), (1, 6, 'Balkong', 'Gamle scene'), (1, 7, 'Balkong', 'Gamle scene'), (1, 8, 'Balkong', 'Gamle scene'), (1, 9, 'Balkong', 'Gamle scene')]\n"
     ]
    }
   ],
   "source": [
    "# find all theaters by Oppstilling\n",
    "%autoreload\n",
    "from utils import chooseUserInput\n",
    "\n",
    "query = '''\n",
    "SELECT TeaterStykkeNavn, SalNavn \n",
    "FROM Oppstilling;\n",
    "'''\n",
    "\n",
    "theaters = cursor.execute(query).fetchall()\n",
    "chosen_theater = chooseUserInput(theaters)\n",
    "# chosen_theater = theaters[0]\n",
    "play, sal = chosen_theater\n",
    "\n",
    "# get all dates for the chosen theater\n",
    "query = f'''\n",
    "SELECT DISTINCT Dato, Tid\n",
    "FROM Forestilling\n",
    "WHERE TeaterStykkeNavn = \"{play}\";\n",
    "'''\n",
    "\n",
    "dates = cursor.execute(query).fetchall()\n",
    "chosen_date = chooseUserInput(dates)\n",
    "# chosen_date = dates[0]\n",
    "date, time = chosen_date\n",
    "# date , time = \"2024-02-03\", \"19:00\"\n",
    "\n",
    "print(f'You have chosen the play \"{play}\" at the theater \"{sal}\" on the date \"{date}\" at \"{time}\"')\n",
    "\n",
    "query = f'''\n",
    "SELECT Nummer\n",
    "FROM Forestilling\n",
    "WHERE TeaterStykkeNavn = \"{play}\"\n",
    "AND Dato = \"{date}\"\n",
    "'''\n",
    "\n",
    "ForestillingNummer = cursor.execute(query).fetchone()[0]\n",
    "# print(ForestillingNummer)\n",
    "\n",
    "query_stol = f'''\n",
    "SELECT RadNr, StolNr, Område, SalNavn\n",
    "FROM Stol\n",
    "WHERE SalNavn = \"{sal}\"\n",
    "AND NOT (RadNr, StolNr, Område, salNavn) IN (\n",
    "    SELECT RadNr, StolNr, Område, salNavn\n",
    "    FROM Billett\n",
    "    WHERE ForestillingNummer = {ForestillingNummer}\n",
    "    AND TeaterStykkeNavn = \"{play}\"\n",
    ")\n",
    "'''\n",
    "available_seats = cursor.execute(query).fetchall()\n",
    "\n",
    "query_distinct_rows_with_9_seats = f'''\n",
    "SELECT DISTINCT Område, RadNr\n",
    "FROM Stol\n",
    "WHERE SalNavn = \"{sal}\"\n",
    "AND NOT (RadNr, StolNr, Område, salNavn) IN (\n",
    "    SELECT RadNr, StolNr, Område, salNavn\n",
    "    FROM Billett\n",
    "    WHERE ForestillingNummer = {ForestillingNummer}\n",
    "    AND TeaterStykkeNavn = \"{play}\"\n",
    ")\n",
    "GROUP BY Område, RadNr  HAVING COUNT(*) >= 9;\n",
    "'''\n",
    "\n",
    "rows_with_9_seats = cursor.execute(query_distinct_rows_with_9_seats).fetchall()\n",
    "# print(len(rows_with_9_seats))\n",
    "# print(tabulate(rows_with_9_seats, headers=['RadNr', 'StolNr', 'Område', 'SalNavn']))\n",
    "\n",
    "chooseRowAndArea = chooseUserInput(rows_with_9_seats, [0,1], \"Velg område og rad for å se ledige seter\")\n",
    "# print(\"chooseRowAndArea\",chooseRowAndArea)\n",
    "område, rad = chooseRowAndArea\n",
    "\n",
    "# finn alle stoler i valgt rad og område\n",
    "query_seats_in_row = f'''\n",
    "SELECT RadNr, StolNr, Område, SalNavn\n",
    "FROM Stol\n",
    "WHERE SalNavn = \"{sal}\"\n",
    "AND RadNr = {rad}\n",
    "AND Område = \"{område}\"\n",
    "AND NOT (RadNr, StolNr, Område, salNavn) IN (\n",
    "    SELECT RadNr, StolNr, Område, salNavn\n",
    "    FROM Billett\n",
    "    WHERE ForestillingNummer = {ForestillingNummer}\n",
    "    AND TeaterStykkeNavn = \"{play}\"\n",
    ")\n",
    "'''\n",
    "seats_in_row = cursor.execute(query_seats_in_row).fetchall()\n",
    "\n",
    "# BilletType by teaterstykkenavn\n",
    "query_billettype = f'''\n",
    "SELECT Type, Pris \n",
    "FROM BilletType\n",
    "WHERE TeaterStykkeNavn = \"{play}\" AND MinAntall <= 9\n",
    "'''\n",
    "billettype = cursor.execute(query_billettype).fetchall()\n",
    "\n",
    "\n",
    "valgteStoler = []\n",
    "billetType = []\n",
    "while len(valgteStoler) < 9:\n",
    "    valgteStoler.append(chooseUserInput(seats_in_row, [1], f'Velg stol {len(valgteStoler)+1} av 9 i rad {rad} og område {område}'))\n",
    "    billettype.append(chooseUserInput(billettype, [0,1], f'Velg billettype for stol {len(valgteStoler)}'))\n",
    "    seats_in_row = [x for x in seats_in_row if x not in valgteStoler]\n",
    "print(valgteStoler)"
   ]
  },
  {
   "cell_type": "markdown",
   "metadata": {},
   "source": []
  },
  {
   "cell_type": "code",
   "execution_count": 18,
   "metadata": {},
   "outputs": [],
   "source": [
    "from datetime import datetime\n",
    "\n",
    "cursor.execute(\"SELECT * FROM Kundeprofil\")\n",
    "customer = cursor.fetchone()\n",
    "customerNumber = customer[0]\n",
    "\n",
    "# get antall billettkjøp hvor ForestillingNummer, TeaterStykkeNavn\n",
    "query = f'''\n",
    "SELECT COUNT(*)\n",
    "FROM Billettkjøp\n",
    "WHERE ForestillingNummer = \"{ForestillingNummer}\"\n",
    "AND TeaterStykkeNavn = \"{play}\";\n",
    "'''\n",
    "ticketNumber = cursor.execute(query).fetchone()[0] + 1\n",
    "\n",
    "\n",
    "datetimeNow = datetime.now()\n",
    "dateNow, timeNow = datetimeNow.strftime(\"%Y-%m-%d\"), datetimeNow.time().strftime(\"%H:%M\")\n",
    "\n",
    "# billettkjøp\n",
    "ticket_purchase = (\n",
    "    play,\n",
    "    ForestillingNummer,\n",
    "    ticketNumber,\n",
    "    customerNumber,\n",
    "    dateNow,\n",
    "    timeNow,\n",
    ")\n",
    "cursor.execute(\n",
    "    \"INSERT INTO Billettkjøp (TeaterStykkeNavn, ForestillingNummer, Nummer, Mobilnummer, dato, tid) VALUES (?, ?, ?, ?, ?, ?)\",\n",
    "    ticket_purchase,\n",
    ")\n",
    "\n",
    "    # RadNr INT NOT NULL,\n",
    "    # StolNr INT NOT NULL,\n",
    "    # Område VARCHAR(255) NOT NULL,\n",
    "    # SalNavn VARCHAR(255) NOT NULL,\n",
    "    # ForestillingNummer INTEGER NOT NULL,\n",
    "    # BillettKjøpNummer INT NOT NULL,\n",
    "    # Billettype VARCHAR(255) NOT NULL,\n",
    "    # TeaterStykkeNavn VARCHAR(255) NOT NULL,\n",
    "# kjøp billetter\n",
    "for stol, billettype in zip(valgteStoler, billettype):\n",
    "    cursor.execute(\n",
    "        \"INSERT INTO Billett (RadNr, StolNr, Område, SalNavn, ForestillingNummer, BillettKjøpNummer, Billettype, TeaterStykkeNavn) VALUES (?, ?, ?, ?, ?, ?, ?, ?)\",\n",
    "        (*stol, ForestillingNummer, ticketNumber, billettype[0], play),\n",
    "    )\n"
   ]
  },
  {
   "cell_type": "code",
   "execution_count": 19,
   "metadata": {},
   "outputs": [
    {
     "name": "stdout",
     "output_type": "stream",
     "text": [
      "Billettene koster 2190 kr\n"
     ]
    }
   ],
   "source": [
    "# get ticket for forestilling 6 and billettkjøp 2 and join them with ticket type and sum the price\n",
    "\n",
    "query = f\"\"\"\n",
    "SELECT SUM(BilletType.pris)\n",
    "FROM Billett\n",
    "JOIN BilletType\n",
    "ON Billett.Billettype = BilletType.type\n",
    "AND Billett.TeaterStykkeNavn = BilletType.TeaterStykkeNavn\n",
    "WHERE Billett.ForestillingNummer = {ForestillingNummer}\n",
    "AND Billett.BillettKjøpNummer = {ticketNumber}\n",
    "AND Billett.TeaterStykkeNavn = \"{play}\"\n",
    "\"\"\"\n",
    "cursor.execute(query)\n",
    "tickets = cursor.fetchall()\n",
    "print(f'Billettene koster {tickets[0][0]} kr')"
   ]
  },
  {
   "cell_type": "code",
   "execution_count": 20,
   "metadata": {},
   "outputs": [],
   "source": [
    "# close the connection\n",
    "conn.commit()\n",
    "conn.close()"
   ]
  }
 ],
 "metadata": {
  "kernelspec": {
   "display_name": "Python 3",
   "language": "python",
   "name": "python3"
  },
  "language_info": {
   "codemirror_mode": {
    "name": "ipython",
    "version": 3
   },
   "file_extension": ".py",
   "mimetype": "text/x-python",
   "name": "python",
   "nbconvert_exporter": "python",
   "pygments_lexer": "ipython3",
   "version": "3.11.5"
  }
 },
 "nbformat": 4,
 "nbformat_minor": 2
}
