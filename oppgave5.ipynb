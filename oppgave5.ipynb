{
 "cells": [
  {
   "cell_type": "markdown",
   "metadata": {},
   "source": [
    "# oppgave 5\n",
    "Vi ønsker å lage et query i SQL som finner hvilke (navn på) skuespillere som\n",
    "opptrer i de forskjellige teaterstykkene. Skriv ut navn på teaterstykke, navn på\n",
    "skuespiller og rolle."
   ]
  },
  {
   "cell_type": "code",
   "execution_count": 1,
   "metadata": {},
   "outputs": [],
   "source": [
    "import sqlite3\n",
    "import pandas as pd\n",
    "from tabulate import tabulate\n",
    "from utils import get_file_name_of_newest_database\n",
    "\n",
    "name = get_file_name_of_newest_database()\n",
    "conn = sqlite3.connect(name)\n",
    "cursor = conn.cursor()"
   ]
  },
  {
   "cell_type": "code",
   "execution_count": 2,
   "metadata": {},
   "outputs": [
    {
     "name": "stdout",
     "output_type": "stream",
     "text": [
      "+-------------------------------+-------------------------+-------------------------+\n",
      "| Teaterstykke                  | Skuespiller             | Rolle                   |\n",
      "+===============================+=========================+=========================+\n",
      "| Kongsemnene                   | Hans Petter Nilsen      | Skule Jarl              |\n",
      "+-------------------------------+-------------------------+-------------------------+\n",
      "| Kongsemnene                   | Synnøve Fossum Eriksen  | Margrete                |\n",
      "+-------------------------------+-------------------------+-------------------------+\n",
      "| Kongsemnene                   | Emma Caroline Deichmann | Sigrid                  |\n",
      "+-------------------------------+-------------------------+-------------------------+\n",
      "| Kongsemnene                   | Emma Caroline Deichmann | Ingeborg                |\n",
      "+-------------------------------+-------------------------+-------------------------+\n",
      "| Kongsemnene                   | Thomas Jensen Takyi     | Biskop Nikolas          |\n",
      "+-------------------------------+-------------------------+-------------------------+\n",
      "| Kongsemnene                   | Per Bogstad Gulliksen   | Gregorius Jonsson       |\n",
      "+-------------------------------+-------------------------+-------------------------+\n",
      "| Kongsemnene                   | Isak Holmen Sørensen    | Paal Flida              |\n",
      "+-------------------------------+-------------------------+-------------------------+\n",
      "| Kongsemnene                   | Isak Holmen Sørensen    | Trønder                 |\n",
      "+-------------------------------+-------------------------+-------------------------+\n",
      "| Kongsemnene                   | Fabian Heidelberg Lunde | Trønder                 |\n",
      "+-------------------------------+-------------------------+-------------------------+\n",
      "| Kongsemnene                   | Emil Olafsson           | Jatgeir Skald           |\n",
      "+-------------------------------+-------------------------+-------------------------+\n",
      "| Kongsemnene                   | Emil Olafsson           | Dagfinn Bonde           |\n",
      "+-------------------------------+-------------------------+-------------------------+\n",
      "| Kongsemnene                   | Snorre Ryen Tøndel      | Peter                   |\n",
      "+-------------------------------+-------------------------+-------------------------+\n",
      "| Størst av alt er kjærligheten | Marte M. Steinholt      | Marte M. Steinholt      |\n",
      "+-------------------------------+-------------------------+-------------------------+\n",
      "| Størst av alt er kjærligheten | Sunniva Du Mond Nordal  | Sunniva Du Mond Nordal  |\n",
      "+-------------------------------+-------------------------+-------------------------+\n",
      "| Størst av alt er kjærligheten | Jo Saberniak            | Jo Saberniak            |\n",
      "+-------------------------------+-------------------------+-------------------------+\n",
      "| Størst av alt er kjærligheten | Tor Ivar Hagen          | Tor Ivar Hagen          |\n",
      "+-------------------------------+-------------------------+-------------------------+\n",
      "| Størst av alt er kjærligheten | Trond-Ove Skrødal       | Trond-Ove Skrødal       |\n",
      "+-------------------------------+-------------------------+-------------------------+\n",
      "| Størst av alt er kjærligheten | Natalie Grøndahl Tangen | Natalie Grøndahl Tangen |\n",
      "+-------------------------------+-------------------------+-------------------------+\n",
      "| Størst av alt er kjærligheten | Åsmund Flaten           | Åsmund Flaten           |\n",
      "+-------------------------------+-------------------------+-------------------------+\n"
     ]
    }
   ],
   "source": [
    "def hent_skuespillere_og_roller():\n",
    "    query = \"\"\"\n",
    "    SELECT Rolle.teaterstykkeNavn, Ansatt.navn, Rolle.navn\n",
    "    FROM Skuespiller\n",
    "    JOIN Rolle\n",
    "    ON Skuespiller.RolleNavn = Rolle.navn\n",
    "    JOIN Ansatt on Skuespiller.Identifikator = ansatt.ansattId\n",
    "    AND Skuespiller.TeaterStykkeNavn = Rolle.teaterstykkeNavn\n",
    "    \"\"\"\n",
    "    cursor.execute(query)\n",
    "    skuespillere = cursor.fetchall()\n",
    "    return skuespillere\n",
    "\n",
    "Roller = hent_skuespillere_og_roller()\n",
    "print(tabulate(Roller, headers= [\"Teaterstykke\", \"Skuespiller\", \"Rolle\"], tablefmt=\"grid\"))"
   ]
  },
  {
   "cell_type": "code",
   "execution_count": null,
   "metadata": {},
   "outputs": [],
   "source": []
  }
 ],
 "metadata": {
  "kernelspec": {
   "display_name": "Python 3.9.6 64-bit",
   "language": "python",
   "name": "python3"
  },
  "language_info": {
   "codemirror_mode": {
    "name": "ipython",
    "version": 3
   },
   "file_extension": ".py",
   "mimetype": "text/x-python",
   "name": "python",
   "nbconvert_exporter": "python",
   "pygments_lexer": "ipython3",
   "version": "3.11.5"
  },
  "orig_nbformat": 4,
  "vscode": {
   "interpreter": {
    "hash": "31f2aee4e71d21fbe5cf8b01ff0e069b9275f58929596ceb00d14d90e3e16cd6"
   }
  }
 },
 "nbformat": 4,
 "nbformat_minor": 2
}
