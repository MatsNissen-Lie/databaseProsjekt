{
 "cells": [
  {
   "cell_type": "markdown",
   "metadata": {},
   "source": [
    "# Oppgave 4\n",
    "Her skal du implementere et Pythonprogram (med bruk av SQL) som tar inn\n",
    "en dato og skriver ut hvilke forestillinger som finnes på denne datoen og lister\n",
    "opp hvor mange billetter (dvs. stoler) som er solgt. Ta også med forestillinger\n",
    "hvor det ikke er solgt noen billetter."
   ]
  },
  {
   "cell_type": "code",
   "execution_count": 5,
   "metadata": {},
   "outputs": [],
   "source": [
    "import sqlite3\n",
    "import pandas as pd\n",
    "from tabulate import tabulate\n",
    "from utils import get_file_name_of_newest_database\n",
    "\n",
    "name = get_file_name_of_newest_database()\n",
    "conn = sqlite3.connect(name)\n",
    "cursor = conn.cursor()"
   ]
  },
  {
   "cell_type": "code",
   "execution_count": 6,
   "metadata": {},
   "outputs": [
    {
     "name": "stdout",
     "output_type": "stream",
     "text": [
      "+-------------------------------+----------------------+------------+-------+-------------------+\n",
      "| TeaterStykkeNavn              |   ForestillingNummer | Dato       | Tid   |   AntallBilletter |\n",
      "+===============================+======================+============+=======+===================+\n",
      "| Størst av alt er kjærligheten |                    1 | 2024-02-03 | 18:30 |                36 |\n",
      "+-------------------------------+----------------------+------------+-------+-------------------+\n",
      "| Kongsemnene                   |                    3 | 2024-02-03 | 19:00 |                65 |\n",
      "+-------------------------------+----------------------+------------+-------+-------------------+\n"
     ]
    }
   ],
   "source": [
    "def hent_forestilling_med_dato(date):\n",
    "    # get forestilling with date and number of tickets sold\n",
    "    query = \"\"\"\n",
    "    SELECT \n",
    "    F.TeaterStykkeNavn,\n",
    "    F.Nummer as ForestillingNummer,\n",
    "    F.Dato,\n",
    "    F.Tid,\n",
    "    count(B.ForestillingNummer) as AntallBilletter\n",
    "    FROM Forestilling F\n",
    "    LEFT JOIN Billett B\n",
    "    ON F.Nummer = B.ForestillingNummer\n",
    "    AND F.TeaterStykkeNavn = B.TeaterStykkeNavn\n",
    "    Group BY F.TeaterStykkeNavn, F.Nummer\n",
    "    HAVING F.Dato = ?\n",
    "    \"\"\"\n",
    "    \n",
    "    cursor.execute(query, (date,))\n",
    "    # cursor.execute(query)\n",
    "    forestillinger = cursor.fetchall()\n",
    "    headers = [description[0] for description in cursor.description]\n",
    "    return forestillinger, headers\n",
    "\n",
    "\n",
    "\n",
    "# get all distinct forestillings_dato\n",
    "query = \"\"\"\n",
    "SELECT DISTINCT Dato\n",
    "FROM Forestilling\n",
    "\"\"\"\n",
    "cursor.execute(query)\n",
    "dates = cursor.fetchall()\n",
    "\n",
    "dates_string = \"\\n\".join([f\"{i+1}. {date[0]}\" for i, date in enumerate(dates)])\n",
    "selected_date = input(f'Velg en dato \\n {dates_string}')\n",
    "if selected_date.isdigit() and int(selected_date) <= len(dates) and int(selected_date) > 0:\n",
    "    selected_date = dates[int(selected_date)-1][0]\n",
    "else:\n",
    "    print(\"Invalid input\")\n",
    "    exit()\n",
    "\n",
    "\n",
    "\n",
    "forestilling_data, headers = hent_forestilling_med_dato(selected_date)\n",
    "print(tabulate(forestilling_data, headers=headers , tablefmt=\"grid\"))"
   ]
  }
 ],
 "metadata": {
  "kernelspec": {
   "display_name": "Python 3.9.6 64-bit",
   "language": "python",
   "name": "python3"
  },
  "language_info": {
   "codemirror_mode": {
    "name": "ipython",
    "version": 3
   },
   "file_extension": ".py",
   "mimetype": "text/x-python",
   "name": "python",
   "nbconvert_exporter": "python",
   "pygments_lexer": "ipython3",
   "version": "3.11.5"
  },
  "orig_nbformat": 4,
  "vscode": {
   "interpreter": {
    "hash": "31f2aee4e71d21fbe5cf8b01ff0e069b9275f58929596ceb00d14d90e3e16cd6"
   }
  }
 },
 "nbformat": 4,
 "nbformat_minor": 2
}
