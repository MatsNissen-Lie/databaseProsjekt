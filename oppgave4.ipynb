{
 "cells": [
  {
   "cell_type": "markdown",
   "metadata": {},
   "source": [
    "# Oppgave 4\n",
    "Her skal du implementere et Pythonprogram (med bruk av SQL) som tar inn\n",
    "en dato og skriver ut hvilke forestillinger som finnes på denne datoen og lister\n",
    "opp hvor mange billetter (dvs. stoler) som er solgt. Ta også med forestillinger\n",
    "hvor det ikke er solgt noen billetter."
   ]
  },
  {
   "cell_type": "code",
   "execution_count": 6,
   "metadata": {},
   "outputs": [],
   "source": [
    "import sqlite3\n",
    "import pandas as pd\n",
    "from tabulate import tabulate\n",
    "from utils import get_file_name_of_newest_database\n",
    "\n",
    "name = get_file_name_of_newest_database()\n",
    "conn = sqlite3.connect(name)\n",
    "cursor = conn.cursor()"
   ]
  },
  {
   "cell_type": "code",
   "execution_count": 7,
   "metadata": {},
   "outputs": [
    {
     "name": "stdout",
     "output_type": "stream",
     "text": [
      "+--------------------+----------------------+--------+-------+-------------------+\n",
      "| TeaterStykkeNavn   | ForestillingNummer   | Dato   | Tid   | AntallBilletter   |\n",
      "+====================+======================+========+=======+===================+\n",
      "+--------------------+----------------------+--------+-------+-------------------+\n"
     ]
    }
   ],
   "source": [
    "def hent_forestilling_med_dato(date):\n",
    "    # get forestilling with date and number of tickets sold\n",
    "    query = \"\"\"\n",
    "    SELECT \n",
    "    F.TeaterStykkeNavn,\n",
    "    F.Nummer as ForestillingNummer,\n",
    "    F.Dato,\n",
    "    F.Tid,\n",
    "    count(B.ForestillingNummer) as AntallBilletter\n",
    "    FROM Forestilling F\n",
    "    LEFT JOIN Billett B\n",
    "    ON F.Nummer = B.ForestillingNummer\n",
    "    AND F.TeaterStykkeNavn = B.TeaterStykkeNavn\n",
    "    Group BY F.TeaterStykkeNavn, F.Nummer\n",
    "    HAVING F.Dato = ?\n",
    "    \"\"\"\n",
    "    \n",
    "    cursor.execute(query, (date,))\n",
    "    # cursor.execute(query)\n",
    "    forestillinger = cursor.fetchall()\n",
    "    headers = [description[0] for description in cursor.description]\n",
    "    return forestillinger, headers\n",
    "\n",
    "\n",
    "# for forestilling in hent_forestilling_med_dato(\"2024-02-03\"):\n",
    "# print(f'{forestilling[1]} går den {forestilling[2]} kl {forestilling[3]}')\n",
    "\n",
    "# forestillings_dato = input(\"Oppagve 4: Skriv inn datoen for forestillingen (YYYY-MM-DD): \")\n",
    "# forestillings_dato = \"2024-02-03\"\n",
    "forestillings_dato = input('Skriv en dato på dette formatet: ÅÅÅÅ-MM-DD')\n",
    "forestilling_data, headers = hent_forestilling_med_dato(forestillings_dato)\n",
    "print(tabulate(forestilling_data, headers=headers , tablefmt=\"grid\"))"
   ]
  },
  {
   "cell_type": "code",
   "execution_count": null,
   "metadata": {},
   "outputs": [],
   "source": []
  }
 ],
 "metadata": {
  "kernelspec": {
   "display_name": "Python 3.9.6 64-bit",
   "language": "python",
   "name": "python3"
  },
  "language_info": {
   "codemirror_mode": {
    "name": "ipython",
    "version": 3
   },
   "file_extension": ".py",
   "mimetype": "text/x-python",
   "name": "python",
   "nbconvert_exporter": "python",
   "pygments_lexer": "ipython3",
   "version": "3.9.6"
  },
  "orig_nbformat": 4,
  "vscode": {
   "interpreter": {
    "hash": "31f2aee4e71d21fbe5cf8b01ff0e069b9275f58929596ceb00d14d90e3e16cd6"
   }
  }
 },
 "nbformat": 4,
 "nbformat_minor": 2
}
