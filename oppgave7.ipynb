{
 "cells": [
  {
   "cell_type": "markdown",
   "metadata": {},
   "source": [
    "# Oppgave 7"
   ]
  },
  {
   "cell_type": "code",
   "execution_count": 3,
   "metadata": {},
   "outputs": [],
   "source": [
    "import sqlite3\n",
    "import pandas as pd\n",
    "from tabulate import tabulate\n",
    "from utils import get_file_name_of_newest_database\n",
    "\n",
    "name = get_file_name_of_newest_database()\n",
    "conn = sqlite3.connect(name)\n",
    "cursor = conn.cursor()"
   ]
  },
  {
   "cell_type": "code",
   "execution_count": 4,
   "metadata": {},
   "outputs": [
    {
     "name": "stdout",
     "output_type": "stream",
     "text": [
      "Skuespilleren Jo Saberniak har vært med i følgende akter:\n",
      "+-------+-------------------------------+\n",
      "|   Akt | Teaterstykke                  |\n",
      "+=======+===============================+\n",
      "|     1 | Størst av alt er kjærligheten |\n",
      "+-------+-------------------------------+\n",
      "Skuespilleren Jo Saberniak har spilt sammen med følgende skuespillere:\n",
      "+-------------------------------+--------------+--------------+-------------------------+-------------------------+-------------+\n",
      "| TeaterStykkeNavn              | Actor        | RolleNavn    | CoActor                 | RolleNavn               |   Actnummer |\n",
      "+===============================+==============+==============+=========================+=========================+=============+\n",
      "| Størst av alt er kjærligheten | Jo Saberniak | Jo Saberniak | Marte M. Steinholt      | Marte M. Steinholt      |           1 |\n",
      "+-------------------------------+--------------+--------------+-------------------------+-------------------------+-------------+\n",
      "| Størst av alt er kjærligheten | Jo Saberniak | Jo Saberniak | Natalie Grøndahl Tangen | Natalie Grøndahl Tangen |           1 |\n",
      "+-------------------------------+--------------+--------------+-------------------------+-------------------------+-------------+\n",
      "| Størst av alt er kjærligheten | Jo Saberniak | Jo Saberniak | Sunniva Du Mond Nordal  | Sunniva Du Mond Nordal  |           1 |\n",
      "+-------------------------------+--------------+--------------+-------------------------+-------------------------+-------------+\n",
      "| Størst av alt er kjærligheten | Jo Saberniak | Jo Saberniak | Tor Ivar Hagen          | Tor Ivar Hagen          |           1 |\n",
      "+-------------------------------+--------------+--------------+-------------------------+-------------------------+-------------+\n",
      "| Størst av alt er kjærligheten | Jo Saberniak | Jo Saberniak | Trond-Ove Skrødal       | Trond-Ove Skrødal       |           1 |\n",
      "+-------------------------------+--------------+--------------+-------------------------+-------------------------+-------------+\n",
      "| Størst av alt er kjærligheten | Jo Saberniak | Jo Saberniak | Åsmund Flaten           | Åsmund Flaten           |           1 |\n",
      "+-------------------------------+--------------+--------------+-------------------------+-------------------------+-------------+\n"
     ]
    }
   ],
   "source": [
    "def hent_akter(skuespiller):\n",
    "    query = \"\"\"\n",
    "    SELECT DISTINCT RPA.Actnummer, S1.TeaterStykkeNavn\n",
    "    FROM Skuespiller S1\n",
    "    JOIN RollePaAkt RPA ON S1.TeaterStykkeNavn = RPA.teaterstykkeNavn AND S1.RolleNavn = RPA.rolleNavn\n",
    "    JOIN Ansatt A1 on S1.Identifikator = A1.ansattId\n",
    "    WHERE A1.navn = ?\n",
    "    \"\"\"\n",
    "    cursor.execute(query, (skuespiller,))\n",
    "    akter = cursor.fetchall()\n",
    "    return akter\n",
    "\n",
    "\n",
    "def hent_skuespillere_i_samme_akt(skuespiller):\n",
    "    akter = hent_akter(skuespiller)\n",
    "    print(f\"Skuespilleren {skuespiller} har vært med i følgende akter:\")\n",
    "    print(tabulate\n",
    "          (akter, headers= [\"Akt\", \"Teaterstykke\"], tablefmt=\"grid\"))\n",
    "    query = \"\"\"\n",
    "    SELECT\n",
    "        S1.teaterstykkenavn,\n",
    "        S2.navn as Actor,\n",
    "        S2.RolleNavn,\n",
    "        A1.navn as CoActor,\n",
    "        S1.rolleNavn,\n",
    "        RPA.Actnummer\n",
    "    FROM\n",
    "        Skuespiller S1\n",
    "        join Ansatt A1 on S1.Identifikator = A1.ansattId\n",
    "        JOIN RollePaAkt RPA ON S1.TeaterStykkeNavn = RPA.teaterstykkeNavn AND S1.RolleNavn = RPA.rolleNavn\n",
    "        JOIN (\n",
    "            SELECT S2.TeaterStykkeNavn, S2.RolleNavn, A2.navn, RPA2.Actnummer, A2.AnsattId\n",
    "            FROM Skuespiller S2\n",
    "            JOIN Ansatt A2 on S2.Identifikator = A2.ansattId\n",
    "            JOIN RollePaAkt RPA2 ON S2.TeaterStykkeNavn = RPA2.teaterstykkeNavn AND S2.RolleNavn = RPA2.rolleNavn\n",
    "            WHERE A2.navn = ?\n",
    "        ) as S2\n",
    "        ON S1.TeaterStykkeNavn = S2.TeaterStykkeNavn AND RPA.Actnummer = S2.Actnummer And A1.AnsattId != S2.AnsattId\n",
    "        order by S1.rolleNavn\n",
    "\n",
    "    \"\"\"\n",
    "    \n",
    "    cursor.execute(query, (skuespiller,))\n",
    "    \n",
    "    skuespillere = cursor.fetchall()\n",
    "    return skuespillere\n",
    "\n",
    "# get all actors by joining ansatt and skuespiller\n",
    "query = \"\"\"\n",
    "SELECT DISTINCT A1.navn\n",
    "FROM Skuespiller S1\n",
    "JOIN Ansatt A1 on S1.Identifikator = A1.ansattId\n",
    "\"\"\"\n",
    "cursor.execute(query)\n",
    "actors = cursor.fetchall()\n",
    "actors_string = \"\\n\".join([f\"{i+1}. {actor[0]}\" for i, actor in enumerate(actors)])\n",
    "selected_actor = input(f'Velg en skuespiller \\n {actors_string}')\n",
    "if selected_actor.isdigit() and int(selected_actor) <= len(actors) and int(selected_actor) > 0:\n",
    "    selected_actor = actors[int(selected_actor)-1][0]\n",
    "else:\n",
    "    print(\"Invalid input\")\n",
    "    exit()\n",
    "\n",
    "skuespillere = hent_skuespillere_i_samme_akt(selected_actor)\n",
    "\n",
    "headers = [description[0] for description in cursor.description]\n",
    "print(f\"Skuespilleren {selected_actor} har spilt sammen med følgende skuespillere:\")\n",
    "print(tabulate(skuespillere, headers=headers, tablefmt=\"grid\"),)"
   ]
  }
 ],
 "metadata": {
  "kernelspec": {
   "display_name": "Python 3",
   "language": "python",
   "name": "python3"
  },
  "language_info": {
   "codemirror_mode": {
    "name": "ipython",
    "version": 3
   },
   "file_extension": ".py",
   "mimetype": "text/x-python",
   "name": "python",
   "nbconvert_exporter": "python",
   "pygments_lexer": "ipython3",
   "version": "3.11.5"
  }
 },
 "nbformat": 4,
 "nbformat_minor": 2
}
